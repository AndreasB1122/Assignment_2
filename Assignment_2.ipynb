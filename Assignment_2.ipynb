{
 "cells": [
  {
   "cell_type": "code",
   "execution_count": 2,
   "id": "a6857c60",
   "metadata": {},
   "outputs": [],
   "source": [
    "%load_ext autoreload\n",
    "%autoreload 2\n",
    "\n",
    "import pandas as pd\n",
    "pd.set_option(\"display.max_rows\", 101)\n",
    "pd.set_option(\"display.max_columns\", 101)\n",
    "\n",
    "import matplotlib.pyplot as plt\n",
    "import matplotlib.patches as patches\n",
    "#patches for custom shapes"
   ]
  },
  {
   "cell_type": "code",
   "execution_count": 3,
   "id": "9527fcc5",
   "metadata": {},
   "outputs": [],
   "source": [
    "#will plot an american football pitch\n",
    "\n",
    "#info from https://en.wikipedia.org/wiki/American_football_field\n",
    "#code loosely helped by https://www.kaggle.com/robikscube/nfl-big-data-bowl-plotting-player-position\n",
    "\n",
    "#the dimensions are 100 yards between the goal lines (touchdown zone)\n",
    "#touchdown zone is 10 yards on each end so 120 yards total\n",
    "#53 1/3 yards wide\n",
    "#goal centered on each end line\n",
    "#every yard there is a has mark \n",
    "#every 5 feet there is a horizontal line across the field"
   ]
  },
  {
   "cell_type": "code",
   "execution_count": 98,
   "id": "2ac36821",
   "metadata": {},
   "outputs": [],
   "source": [
    "#start by creating the field outline\n",
    "\n",
    "def create_football_field():\n",
    "    \n",
    "    rect = patches.Rectangle((0, 0), 120, 53.3, linewidth=0.1,\n",
    "                             edgecolor='r', facecolor='darkgreen', zorder=0)\n",
    "    \n",
    "    fig, ax = plt.subplots(1, figsize=(12, 6.33))\n",
    "    ax.add_patch(rect)\n",
    "    \n",
    "    #add the yard marks for each 10 yards \n",
    "    plt.plot([10, 10, 10, 20, 20, 30, 30, 40, 40, 50, 50, 60, 60, 70, 70, 80,\n",
    "              80, 90, 90, 100, 100, 110, 110, 120, 0, 0, 120, 120],\n",
    "             [0, 0, 53.3, 53.3, 0, 0, 53.3, 53.3, 0, 0, 53.3, 53.3, 0, 0, 53.3,\n",
    "              53.3, 0, 0, 53.3, 53.3, 0, 0, 53.3, 53.3, 53.3, 0, 0, 53.3],\n",
    "             color='white')\n",
    "    #add the endzone using the patch function again \n",
    "    \n",
    "    ez1 = patches.Rectangle((0, 0), 10, 53.3,\n",
    "                                linewidth=0.1,\n",
    "                                edgecolor='r',\n",
    "                                facecolor='red',\n",
    "                                alpha=0.5,\n",
    "                                zorder=0)\n",
    "    \n",
    "    ez2 = patches.Rectangle((110, 0), 120, 53.3,\n",
    "                                linewidth=0.1,\n",
    "                                edgecolor='r',\n",
    "                                facecolor='red',\n",
    "                                alpha=0.5,\n",
    "                                zorder=0)\n",
    "    \n",
    "    ax.add_patch(ez1)\n",
    "    ax.add_patch(ez2)\n",
    "    plt.xlim(0, 120)\n",
    "    plt.ylim(-5, 58.3)\n",
    "    plt.axis('off')\n",
    "    \n",
    "    #now need to add the yard marks for every 10 yards\n",
    "    for x in range(20, 110, 10):\n",
    "        #numb is the number that will be printed \n",
    "        numb = x\n",
    "        if x > 50:\n",
    "            numb = 120 - x\n",
    "        #remove 10 as that is the endzone area\n",
    "        #the numbers facing our direction\n",
    "        plt.text(x, 5, str(numb - 10),\n",
    "                 horizontalalignment='center',\n",
    "                 fontsize=30,\n",
    "                color='white')\n",
    "        #the numbers facing opposite us\n",
    "        #minus 5 as that is how far up it is vertically from the edges\n",
    "        #minus 1 so the digits are in between the lines\n",
    "        plt.text(x-0.95, 53.3 - 5, str(numb - 10),\n",
    "                 horizontalalignment='center',\n",
    "                fontsize=30,\n",
    "                color='white', rotation=180)\n",
    "        \n",
    "    #add the white hashmarks in the middle for each yard\n",
    "    for x in range(11, 110):\n",
    "        ax.plot([x, x], [0.4, 0.7], color='white')\n",
    "        ax.plot([x, x], [53.0, 52.5], color='white')\n",
    "        ax.plot([x, x], [22.91, 23.57], color='white')\n",
    "        ax.plot([x, x], [29.73, 30.39], color='white')    \n",
    "        \n",
    "    return fig, ax\n",
    "    \n",
    "    plt.show()"
   ]
  },
  {
   "cell_type": "code",
   "execution_count": 99,
   "id": "a2e916c5",
   "metadata": {},
   "outputs": [
    {
     "data": {
      "text/plain": [
       "(<Figure size 864x455.76 with 1 Axes>, <AxesSubplot:>)"
      ]
     },
     "execution_count": 99,
     "metadata": {},
     "output_type": "execute_result"
    },
    {
     "data": {
      "image/png": "[encoded data removed]",
      "text/plain": [
       "<Figure size 864x455.76 with 1 Axes>"
      ]
     },
     "metadata": {
      "needs_background": "light"
     },
     "output_type": "display_data"
    }
   ],
   "source": [
    "create_football_field()"
   ]
  },
  {
   "cell_type": "code",
   "execution_count": null,
   "id": "f96faee5",
   "metadata": {},
   "outputs": [],
   "source": []
  }
 ],
 "metadata": {
  "kernelspec": {
   "display_name": "Python 3 (ipykernel)",
   "language": "python",
   "name": "python3"
  },
  "language_info": {
   "codemirror_mode": {
    "name": "ipython",
    "version": 3
   },
   "file_extension": ".py",
   "mimetype": "text/x-python",
   "name": "python",
   "nbconvert_exporter": "python",
   "pygments_lexer": "ipython3",
   "version": "3.8.11"
  }
 },
 "nbformat": 4,
 "nbformat_minor": 5
}
